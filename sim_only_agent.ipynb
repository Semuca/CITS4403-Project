{
 "cells": [
  {
   "cell_type": "markdown",
   "metadata": {},
   "source": [
    "# CITS4403 Project draft code\n",
    "\n",
    "### Config\n"
   ]
  },
  {
   "cell_type": "code",
   "execution_count": 177,
   "metadata": {},
   "outputs": [],
   "source": [
    "import matplotlib.pyplot as plt\n",
    "import numpy as np\n",
    "from time import sleep\n",
    "from IPython.display import clear_output\n",
    "import random\n",
    "\n",
    "# Agent parameters\n",
    "NUM_AGENTS = 8"
   ]
  },
  {
   "cell_type": "code",
   "execution_count": 184,
   "metadata": {},
   "outputs": [],
   "source": [
    "map = np.array([[1, 1, 1, 1, 1, 1, 1, 1, 1, 1, 1, 1, 1, 1, 1, 1, 1, 1, 1],\n",
    "                [1, 0, 0, 0, 0, 0, 1, 0, 0, 0, 0, 0, 0, 0, 0, 0, 0, 0, 1],\n",
    "                [1, 1, 1, 1, 1, 0, 1, 0, 0, 0, 1, 1, 1, 1, 0, 1, 0, 0, 1],\n",
    "                [2, 0, 0, 0, 0, 0, 0, 0, 1, 0, 1, 0, 0, 1, 0, 1, 1, 1, 1],\n",
    "                [1, 0, 1, 1, 1, 1, 0, 0, 0, 0, 1, 0, 0, 0, 0, 0, 0, 0, 1],\n",
    "                [1, 0, 1, 1, 1, 1, 0, 0, 0, 0, 1, 0, 0, 1, 0, 1, 0, 0, 1],\n",
    "                [1, 0, 1, 1, 1, 1, 0, 0, 1, 0, 1, 1, 1, 1, 1, 1, 1, 1, 1],\n",
    "                [1, 0, 0, 0, 0, 0, 0, 0, 0, 0, 0, 0, 0, 0, 0, 0, 0, 0, 1],\n",
    "                [1, 1, 1, 1, 0, 0, 0, 0, 0, 0, 0, 0, 0, 0, 0, 0, 0, 0, 1],\n",
    "                [1, 1, 1, 1, 1, 1, 0, 0, 1, 0, 0, 1, 0, 0, 1, 0, 0, 0, 1],\n",
    "                [1, 1, 1, 1, 0, 0, 0, 0, 0, 0, 0, 0, 0, 0, 0, 0, 0, 0, 1],\n",
    "                [1, 0, 0, 0, 0, 0, 0, 0, 0, 0, 0, 0, 0, 0, 0, 0, 1, 0, 1],\n",
    "                [1, 0, 1, 1, 1, 1, 1, 1, 1, 1, 1, 1, 0, 1, 1, 1, 1, 0, 1],\n",
    "                [1, 0, 1, 0, 0, 0, 0, 1, 0, 0, 0, 0, 0, 1, 0, 0, 1, 0, 1],\n",
    "                [1, 0, 1, 0, 1, 1, 1, 1, 0, 0, 0, 0, 0, 1, 0, 0, 1, 0, 1],\n",
    "                [1, 0, 0, 0, 0, 0, 0, 1, 0, 0, 0, 1, 0, 1, 0, 0, 0, 0, 1],\n",
    "                [1, 0, 0, 0, 0, 0, 0, 1, 0, 0, 0, 1, 0, 1, 1, 1, 1, 0, 1],\n",
    "                [1, 0, 0, 0, 0, 0, 0, 1, 0, 0, 0, 1, 0, 0, 0, 0, 0, 0, 1],\n",
    "                [1, 1, 1, 1, 1, 1, 1, 1, 2, 2, 1, 1, 1, 1, 1, 1, 1, 1, 1]])\n",
    "\n",
    "map_exits = np.where(map == 2)\n",
    "map_exits: tuple[int, int] = list(zip(map_exits[1], map_exits[0]))\n"
   ]
  },
  {
   "cell_type": "code",
   "execution_count": 185,
   "metadata": {},
   "outputs": [],
   "source": [
    "class Cell:\n",
    "    def __init__(self):\n",
    "        pass\n"
   ]
  },
  {
   "cell_type": "code",
   "execution_count": 186,
   "metadata": {},
   "outputs": [],
   "source": [
    "from heapq import heappop, heappush\n",
    "\n",
    "# A* - modified to compute costs of all cells from nearest exit\n",
    "def a_star_reverse(map, exits: list[tuple[int, int]]) -> dict[tuple[int, int], int]:\n",
    "    pqueue = [] # Priority queue of (cost, (x, y)) tuples\n",
    "    cost_map = {} # Maps (x, y) to lowest cost to an exit\n",
    "\n",
    "    for exit in exits:\n",
    "        heappush(pqueue, (0, exit))\n",
    "        cost_map[exit] = 0\n",
    "\n",
    "    while pqueue:\n",
    "        # Node with next lowest cost\n",
    "        current_cost, current = heappop(pqueue)\n",
    "\n",
    "        # Check all possible moves (up, down, left, right)\n",
    "        for dx, dy in [(0, 1), (0, -1), (1, 0), (-1, 0)]:\n",
    "            neighbor = (current[0] + dx, current[1] + dy)\n",
    "\n",
    "            if (neighbor[0] < 0 or neighbor[0] >= len(map[0])) or (neighbor[1] < 0 or neighbor[1] >= len(map)):\n",
    "                continue\n",
    "            if map[neighbor[1]][neighbor[0]] != 0: # walkable space\n",
    "                continue\n",
    "\n",
    "            current_neighbour_cost = current_cost + 1 # Cost is 1 for each step for now\n",
    "\n",
    "            # If this is the best path to neighbor, record it\n",
    "            if neighbor not in cost_map or current_neighbour_cost < cost_map[neighbor]:\n",
    "                cost_map[neighbor] = current_neighbour_cost\n",
    "                heappush(pqueue, (current_neighbour_cost, neighbor))\n",
    "\n",
    "    return cost_map"
   ]
  },
  {
   "cell_type": "code",
   "execution_count": 213,
   "metadata": {},
   "outputs": [],
   "source": [
    "class Person:\n",
    "    def __init__(self, map):\n",
    "        self.map = map\n",
    "        self.x = 0\n",
    "        self.y = 0\n",
    "        self.safe = False\n",
    "        self.dead = False\n",
    "\n",
    "        self.init_random_position()\n",
    "\n",
    "    def init_random_position(self):\n",
    "        while True:\n",
    "            x = random.randint(0, len(self.map[0]) - 1)\n",
    "            y = random.randint(0, len(self.map) - 1)\n",
    "            if self.map[y][x] == 0:\n",
    "                self.x, self.y = x, y\n",
    "                break\n",
    "\n",
    "    def move_towards_exit(self, cost_map: dict[tuple[int, int], int]):\n",
    "        if self.safe or self.dead:\n",
    "            return 0\n",
    "\n",
    "        # If the person is already at an exit, they are safe\n",
    "        if (self.x, self.y) in map_exits:\n",
    "            self.safe = True\n",
    "            return 1\n",
    "\n",
    "        current_cost = cost_map.get((self.x, self.y), float('inf'))\n",
    "        best_move = (self.x, self.y)\n",
    "        for dx, dy in [(0, 1), (0, -1), (1, 0), (-1, 0)]:\n",
    "            neighbor = (self.x + dx, self.y + dy)\n",
    "\n",
    "            if (neighbor[0] < 0 or neighbor[0] >= len(map[0])) or (neighbor[1] < 0 or neighbor[1] >= len(map)):\n",
    "                continue\n",
    "            if map[neighbor[1]][neighbor[0]] != 0 and map[neighbor[1]][neighbor[0]] != 2: # walkable spaces\n",
    "                continue\n",
    "\n",
    "            if cost_map[neighbor] <= current_cost:\n",
    "                best_move = neighbor\n",
    "                current_cost = cost_map[neighbor]\n",
    "\n",
    "        # Move the person to the best move\n",
    "        self.x, self.y = best_move"
   ]
  },
  {
   "cell_type": "code",
   "execution_count": 214,
   "metadata": {},
   "outputs": [],
   "source": [
    "class Simulation():\n",
    "    def __init__(self, map, num_people):\n",
    "        self.environment = np.array([[Cell() for _ in row] for row in map])\n",
    "\n",
    "        self.people = [Person(map) for _ in range(num_people)]\n",
    "        self.cost_map = a_star_reverse(map, map_exits)  # Precompute A* for each exit\n",
    "\n",
    "        # Metrics\n",
    "        self.num_safe = 0\n",
    "        self.num_dead = 0\n",
    "\n",
    "    def step(self):\n",
    "        # Move all people\n",
    "        for person in self.people:\n",
    "            res = person.move_towards_exit(self.cost_map)\n",
    "            if res == 1:\n",
    "                self.num_safe += 1\n",
    "                self.people.remove(person)\n",
    "\n",
    "    def draw(self):\n",
    "        height, width = map.shape\n",
    "\n",
    "        # Draw map\n",
    "        plt.axis([0, height, 0, width])\n",
    "        plt.xticks([])\n",
    "        plt.yticks([])\n",
    "\n",
    "        wallsMap = np.where(map == 1, 1, 0)\n",
    "        options={\n",
    "            \"cmap\": 'Greens',\n",
    "            \"alpha\": 0.7,\n",
    "            \"vmin\": 0, \"vmax\": 1,\n",
    "            \"interpolation\": 'none',\n",
    "            \"origin\": 'upper',\n",
    "            \"extent\": [0, height, 0, width]\n",
    "        }\n",
    "\n",
    "        plt.imshow(wallsMap, **options)\n",
    "\n",
    "        # Draw people as green dots\n",
    "        for person in self.people:\n",
    "            plt.plot(person.x + 0.5, height - person.y - 0.5, '.', color='green')\n",
    "\n",
    "        plt.show()\n",
    "\n",
    "    def animate(self, frames, interval=None, step=None):\n",
    "        \"\"\"Animate the automaton.\n",
    "\n",
    "        frames: number of frames to draw\n",
    "        interval: time between frames in seconds\n",
    "        iters: number of steps between frames\n",
    "        \"\"\"\n",
    "        if step is None:\n",
    "            step = self.step\n",
    "\n",
    "        try:\n",
    "            for _ in range(frames-1):\n",
    "                self.draw()\n",
    "                if interval:\n",
    "                    sleep(interval)\n",
    "                step()\n",
    "                clear_output(wait=True)\n",
    "            self.draw()\n",
    "        except KeyboardInterrupt:\n",
    "            pass\n",
    "\n",
    "        print(f\"Number of people safe: {self.num_safe}\")"
   ]
  },
  {
   "cell_type": "code",
   "execution_count": 216,
   "metadata": {},
   "outputs": [
    {
     "data": {
      "image/png": "[encoded data removed]",
      "text/plain": [
       "<Figure size 640x480 with 1 Axes>"
      ]
     },
     "metadata": {},
     "output_type": "display_data"
    },
    {
     "name": "stdout",
     "output_type": "stream",
     "text": [
      "Number of people safe: 7\n"
     ]
    }
   ],
   "source": [
    "sim = Simulation(map, NUM_AGENTS)\n",
    "\n",
    "sim.animate(30, 0.1)"
   ]
  }
 ],
 "metadata": {
  "kernelspec": {
   "display_name": "CITS4402env",
   "language": "python",
   "name": "python3"
  },
  "language_info": {
   "codemirror_mode": {
    "name": "ipython",
    "version": 3
   },
   "file_extension": ".py",
   "mimetype": "text/x-python",
   "name": "python",
   "nbconvert_exporter": "python",
   "pygments_lexer": "ipython3",
   "version": "3.12.2"
  }
 },
 "nbformat": 4,
 "nbformat_minor": 2
}
