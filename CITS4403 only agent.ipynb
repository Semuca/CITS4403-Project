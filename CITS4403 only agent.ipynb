{
 "cells": [
  {
   "cell_type": "markdown",
   "metadata": {},
   "source": [
    "# CITS4403 Project draft code\n",
    "\n",
    "### Config\n"
   ]
  },
  {
   "cell_type": "code",
   "execution_count": 1,
   "metadata": {},
   "outputs": [],
   "source": [
    "import matplotlib.pyplot as plt\n",
    "import numpy as np\n",
    "from time import sleep\n",
    "from IPython.display import clear_output\n",
    "import random\n",
    "\n",
    "# Agent parameters\n",
    "NUM_AGENTS = 8"
   ]
  },
  {
   "cell_type": "code",
   "execution_count": 2,
   "metadata": {},
   "outputs": [],
   "source": [
    "map = np.array([[1, 1, 1, 1, 1, 1, 1, 1, 1, 1, 1, 1, 1, 1, 1, 1, 1, 1, 1],\n",
    "                [1, 0, 0, 0, 0, 0, 1, 0, 0, 0, 0, 0, 0, 0, 0, 0, 0, 0, 1],\n",
    "                [1, 1, 1, 1, 1, 0, 1, 0, 0, 0, 1, 1, 1, 1, 0, 1, 0, 0, 1],\n",
    "                [0, 0, 0, 0, 0, 0, 0, 0, 1, 0, 1, 0, 0, 1, 0, 1, 1, 1, 1],\n",
    "                [1, 0, 1, 1, 1, 1, 0, 0, 0, 0, 1, 0, 0, 0, 0, 0, 0, 0, 1],\n",
    "                [1, 0, 1, 1, 1, 1, 0, 0, 0, 0, 1, 0, 0, 1, 0, 1, 0, 0, 1],\n",
    "                [1, 0, 1, 1, 1, 1, 0, 0, 1, 0, 1, 1, 1, 1, 1, 1, 1, 1, 1],\n",
    "                [1, 0, 0, 0, 0, 0, 0, 0, 0, 0, 0, 0, 0, 0, 0, 0, 0, 0, 1],\n",
    "                [1, 1, 1, 1, 0, 0, 0, 0, 0, 0, 0, 0, 0, 0, 0, 0, 0, 0, 1],\n",
    "                [1, 1, 1, 1, 1, 1, 0, 0, 1, 0, 0, 1, 0, 0, 1, 0, 0, 0, 1],\n",
    "                [1, 1, 1, 1, 0, 0, 0, 0, 0, 0, 0, 0, 0, 0, 0, 0, 0, 0, 1],\n",
    "                [1, 0, 0, 0, 0, 0, 0, 0, 0, 0, 0, 0, 0, 0, 0, 0, 1, 0, 1],\n",
    "                [1, 0, 1, 1, 1, 1, 1, 1, 1, 1, 1, 1, 0, 1, 1, 1, 1, 0, 1],\n",
    "                [1, 0, 1, 0, 0, 0, 0, 1, 0, 0, 0, 0, 0, 1, 0, 0, 1, 0, 1],\n",
    "                [1, 0, 1, 0, 1, 1, 1, 1, 0, 0, 0, 0, 0, 1, 0, 0, 1, 0, 1],\n",
    "                [1, 0, 0, 0, 0, 0, 0, 1, 0, 0, 0, 1, 0, 1, 0, 0, 0, 0, 1],\n",
    "                [1, 0, 0, 0, 0, 0, 0, 1, 0, 0, 0, 1, 0, 1, 1, 1, 1, 0, 1],\n",
    "                [1, 0, 0, 0, 0, 0, 0, 1, 0, 0, 0, 1, 0, 0, 0, 0, 0, 0, 1],\n",
    "                [1, 1, 1, 1, 1, 1, 1, 1, 0, 0, 1, 1, 1, 1, 1, 1, 1, 1, 1]])"
   ]
  },
  {
   "cell_type": "code",
   "execution_count": 3,
   "metadata": {},
   "outputs": [],
   "source": [
    "class Cell:\n",
    "    def __init__(self):\n",
    "        pass\n"
   ]
  },
  {
   "cell_type": "code",
   "execution_count": 4,
   "metadata": {},
   "outputs": [],
   "source": [
    "class Person:\n",
    "    def __init__(self, map):\n",
    "        self.map = map\n",
    "        self.x = 0\n",
    "        self.y = 0\n",
    "\n",
    "        self.init_random_position()\n",
    "\n",
    "    def init_random_position(self):\n",
    "        while True:\n",
    "            x = random.randint(0, len(self.map[0]) - 1)\n",
    "            y = random.randint(0, len(self.map) - 1)\n",
    "            if self.map[y][x] == 0:\n",
    "                self.x, self.y = x, y\n",
    "                break\n",
    "\n",
    "    def move_randomly(self):\n",
    "        # Define possible moves: up, down, left, right\n",
    "        moves = [(0, 1), (0, -1), (1, 0), (-1, 0)]\n",
    "        random.shuffle(moves)\n",
    "\n",
    "        for move in moves:\n",
    "            new_x = self.x + move[0]\n",
    "            new_y = self.y + move[1]\n",
    "            if 0 <= new_x < len(self.map[0]) and 0 <= new_y < len(self.map):\n",
    "                # Only move if the new position is not a wall (i.e., map[y][x] == 1 means walkable)\n",
    "                if self.map[new_y][new_x] == 0:\n",
    "                    self.x, self.y = new_x, new_y\n",
    "                    break"
   ]
  },
  {
   "cell_type": "code",
   "execution_count": 5,
   "metadata": {},
   "outputs": [],
   "source": [
    "class BurnSimulation():\n",
    "    def __init__(self, map, num_people):\n",
    "        self.environment = np.array([[Cell() for _ in row] for row in map])\n",
    "\n",
    "        self.people = []\n",
    "        for _ in range(num_people):\n",
    "            self.people.append(Person(map))\n",
    "\n",
    "    def step(self):\n",
    "        # Move all people\n",
    "        for person in self.people:\n",
    "            person.move_randomly()\n",
    "\n",
    "    def draw(self):\n",
    "        height, width = map.shape\n",
    "\n",
    "        # Draw map\n",
    "        plt.axis([0, height, 0, width])\n",
    "        plt.xticks([])\n",
    "        plt.yticks([])\n",
    "\n",
    "        options={\n",
    "            \"cmap\": 'Greens',\n",
    "            \"alpha\": 0.7,\n",
    "            \"vmin\": 0, \"vmax\": 1,\n",
    "            \"interpolation\": 'none',\n",
    "            \"origin\": 'upper',\n",
    "            \"extent\": [0, height, 0, width]\n",
    "        }\n",
    "\n",
    "        plt.imshow(map, **options)\n",
    "\n",
    "        # Draw people as green dots\n",
    "        for person in self.people:\n",
    "            plt.plot(person.x + 0.5, height - person.y - 0.5, '.', color='green')\n",
    "\n",
    "        plt.show()\n",
    "\n",
    "    def animate(self, frames, interval=None, step=None):\n",
    "        \"\"\"Animate the automaton.\n",
    "\n",
    "        frames: number of frames to draw\n",
    "        interval: time between frames in seconds\n",
    "        iters: number of steps between frames\n",
    "        \"\"\"\n",
    "        if step is None:\n",
    "            step = self.step\n",
    "\n",
    "        plt.figure()\n",
    "        try:\n",
    "            for _ in range(frames-1):\n",
    "                self.draw()\n",
    "                plt.show()\n",
    "                if interval:\n",
    "                    sleep(interval)\n",
    "                step()\n",
    "                clear_output(wait=True)\n",
    "            self.draw()\n",
    "            plt.show()\n",
    "        except KeyboardInterrupt:\n",
    "            pass"
   ]
  },
  {
   "cell_type": "code",
   "execution_count": 6,
   "metadata": {},
   "outputs": [
    {
     "data": {
      "image/png": "[encoded data removed]",
      "text/plain": [
       "<Figure size 640x480 with 1 Axes>"
      ]
     },
     "metadata": {},
     "output_type": "display_data"
    }
   ],
   "source": [
    "sim = BurnSimulation(map, NUM_AGENTS)\n",
    "\n",
    "sim.animate(50, 0.1)"
   ]
  }
 ],
 "metadata": {
  "kernelspec": {
   "display_name": "CITS4402env",
   "language": "python",
   "name": "python3"
  },
  "language_info": {
   "codemirror_mode": {
    "name": "ipython",
    "version": 3
   },
   "file_extension": ".py",
   "mimetype": "text/x-python",
   "name": "python",
   "nbconvert_exporter": "python",
   "pygments_lexer": "ipython3",
   "version": "3.12.2"
  }
 },
 "nbformat": 4,
 "nbformat_minor": 2
}
