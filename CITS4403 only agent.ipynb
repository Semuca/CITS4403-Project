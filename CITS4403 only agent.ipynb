{
 "cells": [
  {
   "cell_type": "markdown",
   "metadata": {},
   "source": [
    "# CITS4403 Project draft code\n",
    "\n",
    "### Config\n"
   ]
  },
  {
   "cell_type": "code",
   "execution_count": 136,
   "metadata": {},
   "outputs": [],
   "source": [
    "import matplotlib.pyplot as plt\n",
    "import numpy as np\n",
    "from time import sleep\n",
    "from IPython.display import clear_output\n",
    "import random\n",
    "\n",
    "# Agent parameters\n",
    "NUM_AGENTS = 8"
   ]
  },
  {
   "cell_type": "code",
   "execution_count": 137,
   "metadata": {},
   "outputs": [
    {
     "name": "stdout",
     "output_type": "stream",
     "text": [
      "[(0, 3), (8, 18), (9, 18)]\n"
     ]
    }
   ],
   "source": [
    "map = np.array([[1, 1, 1, 1, 1, 1, 1, 1, 1, 1, 1, 1, 1, 1, 1, 1, 1, 1, 1],\n",
    "                [1, 0, 0, 0, 0, 0, 1, 0, 0, 0, 0, 0, 0, 0, 0, 0, 0, 0, 1],\n",
    "                [1, 1, 1, 1, 1, 0, 1, 0, 0, 0, 1, 1, 1, 1, 0, 1, 0, 0, 1],\n",
    "                [2, 0, 0, 0, 0, 0, 0, 0, 1, 0, 1, 0, 0, 1, 0, 1, 1, 1, 1],\n",
    "                [1, 0, 1, 1, 1, 1, 0, 0, 0, 0, 1, 0, 0, 0, 0, 0, 0, 0, 1],\n",
    "                [1, 0, 1, 1, 1, 1, 0, 0, 0, 0, 1, 0, 0, 1, 0, 1, 0, 0, 1],\n",
    "                [1, 0, 1, 1, 1, 1, 0, 0, 1, 0, 1, 1, 1, 1, 1, 1, 1, 1, 1],\n",
    "                [1, 0, 0, 0, 0, 0, 0, 0, 0, 0, 0, 0, 0, 0, 0, 0, 0, 0, 1],\n",
    "                [1, 1, 1, 1, 0, 0, 0, 0, 0, 0, 0, 0, 0, 0, 0, 0, 0, 0, 1],\n",
    "                [1, 1, 1, 1, 1, 1, 0, 0, 1, 0, 0, 1, 0, 0, 1, 0, 0, 0, 1],\n",
    "                [1, 1, 1, 1, 0, 0, 0, 0, 0, 0, 0, 0, 0, 0, 0, 0, 0, 0, 1],\n",
    "                [1, 0, 0, 0, 0, 0, 0, 0, 0, 0, 0, 0, 0, 0, 0, 0, 1, 0, 1],\n",
    "                [1, 0, 1, 1, 1, 1, 1, 1, 1, 1, 1, 1, 0, 1, 1, 1, 1, 0, 1],\n",
    "                [1, 0, 1, 0, 0, 0, 0, 1, 0, 0, 0, 0, 0, 1, 0, 0, 1, 0, 1],\n",
    "                [1, 0, 1, 0, 1, 1, 1, 1, 0, 0, 0, 0, 0, 1, 0, 0, 1, 0, 1],\n",
    "                [1, 0, 0, 0, 0, 0, 0, 1, 0, 0, 0, 1, 0, 1, 0, 0, 0, 0, 1],\n",
    "                [1, 0, 0, 0, 0, 0, 0, 1, 0, 0, 0, 1, 0, 1, 1, 1, 1, 0, 1],\n",
    "                [1, 0, 0, 0, 0, 0, 0, 1, 0, 0, 0, 1, 0, 0, 0, 0, 0, 0, 1],\n",
    "                [1, 1, 1, 1, 1, 1, 1, 1, 2, 2, 1, 1, 1, 1, 1, 1, 1, 1, 1]])\n",
    "\n",
    "map_exits = np.where(map == 2)\n",
    "map_exits = list(zip(map_exits[1], map_exits[0]))\n",
    "print(map_exits)"
   ]
  },
  {
   "cell_type": "code",
   "execution_count": 138,
   "metadata": {},
   "outputs": [],
   "source": [
    "class Cell:\n",
    "    def __init__(self):\n",
    "        pass\n"
   ]
  },
  {
   "cell_type": "code",
   "execution_count": 139,
   "metadata": {},
   "outputs": [],
   "source": [
    "from heapq import heappop, heappush\n",
    "\n",
    "# A* algorithm modified to compute costs from one exit to all cells\n",
    "def a_star_from_exit(map, start):\n",
    "    # Open set is a priority queue of (cost, position) tuples\n",
    "    open_set = []\n",
    "    heappush(open_set, (0, start))\n",
    "\n",
    "    # Store the cost of getting to each point on the map\n",
    "    g_score = {start: 0}\n",
    "\n",
    "    # Store the best path to reach each point (optional, not necessary if we just need costs)\n",
    "    came_from = {}\n",
    "\n",
    "    while open_set:\n",
    "        # Get the node with the lowest cost\n",
    "        current_cost, current = heappop(open_set)\n",
    "\n",
    "        # Check all possible moves (up, down, left, right)\n",
    "        for dx, dy in [(0, 1), (0, -1), (1, 0), (-1, 0)]:\n",
    "            neighbor = (current[0] + dx, current[1] + dy)\n",
    "\n",
    "            # If the neighbor is out of bounds or a wall, skip it\n",
    "            if (0 <= neighbor[0] < len(map[0]) and\n",
    "                0 <= neighbor[1] < len(map) and\n",
    "                map[neighbor[1]][neighbor[0]] == 0):  # Ensure walkable space\n",
    "\n",
    "                # Calculate tentative g_score\n",
    "                tentative_g_score = g_score[current] + 1  # Cost to move to neighbor\n",
    "\n",
    "                # If this is the best path to neighbor, record it\n",
    "                if neighbor not in g_score or tentative_g_score < g_score[neighbor]:\n",
    "                    came_from[neighbor] = current\n",
    "                    g_score[neighbor] = tentative_g_score\n",
    "                    heappush(open_set, (tentative_g_score, neighbor))\n",
    "\n",
    "    return g_score  # Return cost map from the exit to all cells\n"
   ]
  },
  {
   "cell_type": "code",
   "execution_count": 140,
   "metadata": {},
   "outputs": [],
   "source": [
    "class Person:\n",
    "    def __init__(self, map):\n",
    "        self.map = map\n",
    "        self.x = 0\n",
    "        self.y = 0\n",
    "        self.safe = False\n",
    "        self.dead = False\n",
    "\n",
    "        self.init_random_position()\n",
    "\n",
    "    def init_random_position(self):\n",
    "        while True:\n",
    "            x = random.randint(0, len(self.map[0]) - 1)\n",
    "            y = random.randint(0, len(self.map) - 1)\n",
    "            if self.map[y][x] == 0:\n",
    "                self.x, self.y = x, y\n",
    "                break\n",
    "\n",
    "    def move_randomly(self):\n",
    "        # Define possible moves: up, down, left, right\n",
    "        moves = [(0, 1), (0, -1), (1, 0), (-1, 0)]\n",
    "        random.shuffle(moves)\n",
    "\n",
    "        for move in moves:\n",
    "            new_x = self.x + move[0]\n",
    "            new_y = self.y + move[1]\n",
    "            if 0 <= new_x < len(self.map[0]) and 0 <= new_y < len(self.map):\n",
    "                # Only move if the new position is not a wall (i.e., map[y][x] == 1 means walkable)\n",
    "                if self.map[new_y][new_x] == 0:\n",
    "                    self.x, self.y = new_x, new_y\n",
    "                    break\n",
    "\n",
    "    def move_towards_exit(self, exit_costs):\n",
    "        if self.safe or self.dead:\n",
    "            return 0\n",
    "\n",
    "        # Find the nearest exit using precomputed costs\n",
    "        start = (self.x, self.y)\n",
    "        nearest_exit = min(exit_costs.keys(), key=lambda exit: exit_costs[exit].get(start, float('inf')))\n",
    "\n",
    "        # If the person is already at an exit, they are safe\n",
    "        if start in map_exits:\n",
    "            self.safe = True\n",
    "            return 1\n",
    "\n",
    "        # Use the precomputed cost map to find the next step towards the nearest exit\n",
    "        current_cost = exit_costs[nearest_exit].get(start, float('inf'))\n",
    "        best_move = start  # Stay in place if no valid move\n",
    "\n",
    "        for dx, dy in [(0, 1), (0, -1), (1, 0), (-1, 0)]:\n",
    "            neighbor = (self.x + dx, self.y + dy)\n",
    "            if neighbor in exit_costs[nearest_exit] and exit_costs[nearest_exit][neighbor] < current_cost:\n",
    "                best_move = neighbor\n",
    "                current_cost = exit_costs[nearest_exit][neighbor]\n",
    "\n",
    "        # Move the person to the best move\n",
    "        self.x, self.y = best_move"
   ]
  },
  {
   "cell_type": "code",
   "execution_count": 145,
   "metadata": {},
   "outputs": [
    {
     "ename": "SyntaxError",
     "evalue": "invalid syntax (1813058521.py, line 53)",
     "output_type": "error",
     "traceback": [
      "\u001b[0;36m  Cell \u001b[0;32mIn[145], line 53\u001b[0;36m\u001b[0m\n\u001b[0;31m    ax2.text(x + 0.5, height - y - 0.5, str(self.environment[y][x].), ha='center', va='center', color='black')\u001b[0m\n\u001b[0m                                                                   ^\u001b[0m\n\u001b[0;31mSyntaxError\u001b[0m\u001b[0;31m:\u001b[0m invalid syntax\n"
     ]
    }
   ],
   "source": [
    "class Simulation():\n",
    "    def __init__(self, map, num_people):\n",
    "        self.environment = np.array([[Cell() for _ in row] for row in map])\n",
    "\n",
    "        self.people = [Person(map) for _ in range(num_people)]\n",
    "        self.exit_costs = {exit: a_star_from_exit(map, exit) for exit in map_exits} # Precompute A* for each exit\n",
    "\n",
    "        # Metrics\n",
    "        self.num_safe = 0\n",
    "        self.num_dead = 0\n",
    "\n",
    "    def step(self):\n",
    "        # Move all people\n",
    "        for person in self.people:\n",
    "            res = person.move_towards_exit(self.exit_costs)\n",
    "            if res == 1:\n",
    "                self.num_safe += 1\n",
    "                self.people.remove(person)\n",
    "\n",
    "    def draw(self):\n",
    "        height, width = map.shape\n",
    "\n",
    "        # Draw map\n",
    "        _, (ax1, ax2) = plt.subplots(2, 1, figsize=(height, width / 2))\n",
    "        plt.subplots_adjust(hspace=0.01)\n",
    "\n",
    "        ax1.axis([0, height, 0, width])\n",
    "        ax1.set_xticks([])\n",
    "        ax1.set_yticks([])\n",
    "\n",
    "        wallsMap = np.where(map == 1, 1, 0)\n",
    "        options={\n",
    "            \"cmap\": 'Greens',\n",
    "            \"alpha\": 0.7,\n",
    "            \"vmin\": 0, \"vmax\": 1,\n",
    "            \"interpolation\": 'none',\n",
    "            \"origin\": 'upper',\n",
    "            \"extent\": [0, height, 0, width]\n",
    "        }\n",
    "\n",
    "        ax1.imshow(wallsMap, **options)\n",
    "\n",
    "        # Draw people as green dots\n",
    "        for person in self.people:\n",
    "            ax1.plot(person.x + 0.5, height - person.y - 0.5, '.', color='green')\n",
    "\n",
    "        # Draw the map with numbers\n",
    "        ax2.axis([0, width, 0, height])\n",
    "        ax2.set_xticks([])\n",
    "        ax2.set_yticks([])\n",
    "        for y in range(height):\n",
    "            for x in range(width):\n",
    "                ax2.text(x + 0.5, height - y - 0.5, str(map[y][x]), ha='center', va='center', color='black')\n",
    "\n",
    "        ax2.imshow(map, cmap='Greys', alpha=0.3, interpolation='none', origin='upper', extent=[0, width, 0, height])\n",
    "\n",
    "        plt.show()\n",
    "\n",
    "    def animate(self, frames, interval=None, step=None):\n",
    "        \"\"\"Animate the automaton.\n",
    "\n",
    "        frames: number of frames to draw\n",
    "        interval: time between frames in seconds\n",
    "        iters: number of steps between frames\n",
    "        \"\"\"\n",
    "        if step is None:\n",
    "            step = self.step\n",
    "\n",
    "        try:\n",
    "            for _ in range(frames-1):\n",
    "                self.draw()\n",
    "                if interval:\n",
    "                    sleep(interval)\n",
    "                step()\n",
    "                clear_output(wait=True)\n",
    "            self.draw()\n",
    "        except KeyboardInterrupt:\n",
    "            pass\n",
    "\n",
    "        print(f\"Number of people safe: {self.num_safe}\")"
   ]
  },
  {
   "cell_type": "code",
   "execution_count": 144,
   "metadata": {},
   "outputs": [
    {
     "name": "stderr",
     "output_type": "stream",
     "text": [
      "Exception ignored in: <bound method IPythonKernel._clean_thread_parent_frames of <ipykernel.ipkernel.IPythonKernel object at 0x10b3ee2a0>>\n",
      "Traceback (most recent call last):\n",
      "  File \"/Users/sellsol/.pyenv/versions/CITS4402env/lib/python3.12/site-packages/ipykernel/ipkernel.py\", line 770, in _clean_thread_parent_frames\n",
      "    def _clean_thread_parent_frames(\n",
      "\n",
      "KeyboardInterrupt: \n"
     ]
    },
    {
     "data": {
      "image/png": "[encoded data removed]",
      "text/plain": [
       "<Figure size 1900x950 with 2 Axes>"
      ]
     },
     "metadata": {},
     "output_type": "display_data"
    }
   ],
   "source": [
    "sim = Simulation(map, NUM_AGENTS)\n",
    "\n",
    "sim.animate(30, 0.05)"
   ]
  }
 ],
 "metadata": {
  "kernelspec": {
   "display_name": "CITS4402env",
   "language": "python",
   "name": "python3"
  },
  "language_info": {
   "codemirror_mode": {
    "name": "ipython",
    "version": 3
   },
   "file_extension": ".py",
   "mimetype": "text/x-python",
   "name": "python",
   "nbconvert_exporter": "python",
   "pygments_lexer": "ipython3",
   "version": "3.12.2"
  }
 },
 "nbformat": 4,
 "nbformat_minor": 2
}
