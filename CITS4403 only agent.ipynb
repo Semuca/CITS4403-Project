{
 "cells": [
  {
   "cell_type": "markdown",
   "metadata": {},
   "source": [
    "# CITS4403 Project draft code\n",
    "\n",
    "### Config\n"
   ]
  },
  {
   "cell_type": "code",
   "execution_count": 61,
   "metadata": {},
   "outputs": [],
   "source": [
    "import matplotlib.pyplot as plt\n",
    "import numpy as np\n",
    "from time import sleep\n",
    "from IPython.display import clear_output\n",
    "import random\n",
    "\n",
    "# Agent parameters\n",
    "NUM_AGENTS = 8"
   ]
  },
  {
   "cell_type": "code",
   "execution_count": 72,
   "metadata": {},
   "outputs": [
    {
     "name": "stdout",
     "output_type": "stream",
     "text": [
      "[(0, 3), (8, 18), (9, 18)]\n"
     ]
    }
   ],
   "source": [
    "map = np.array([[1, 1, 1, 1, 1, 1, 1, 1, 1, 1, 1, 1, 1, 1, 1, 1, 1, 1, 1],\n",
    "                [1, 0, 0, 0, 0, 0, 1, 0, 0, 0, 0, 0, 0, 0, 0, 0, 0, 0, 1],\n",
    "                [1, 1, 1, 1, 1, 0, 1, 0, 0, 0, 1, 1, 1, 1, 0, 1, 0, 0, 1],\n",
    "                [2, 0, 0, 0, 0, 0, 0, 0, 1, 0, 1, 0, 0, 1, 0, 1, 1, 1, 1],\n",
    "                [1, 0, 1, 1, 1, 1, 0, 0, 0, 0, 1, 0, 0, 0, 0, 0, 0, 0, 1],\n",
    "                [1, 0, 1, 1, 1, 1, 0, 0, 0, 0, 1, 0, 0, 1, 0, 1, 0, 0, 1],\n",
    "                [1, 0, 1, 1, 1, 1, 0, 0, 1, 0, 1, 1, 1, 1, 1, 1, 1, 1, 1],\n",
    "                [1, 0, 0, 0, 0, 0, 0, 0, 0, 0, 0, 0, 0, 0, 0, 0, 0, 0, 1],\n",
    "                [1, 1, 1, 1, 0, 0, 0, 0, 0, 0, 0, 0, 0, 0, 0, 0, 0, 0, 1],\n",
    "                [1, 1, 1, 1, 1, 1, 0, 0, 1, 0, 0, 1, 0, 0, 1, 0, 0, 0, 1],\n",
    "                [1, 1, 1, 1, 0, 0, 0, 0, 0, 0, 0, 0, 0, 0, 0, 0, 0, 0, 1],\n",
    "                [1, 0, 0, 0, 0, 0, 0, 0, 0, 0, 0, 0, 0, 0, 0, 0, 1, 0, 1],\n",
    "                [1, 0, 1, 1, 1, 1, 1, 1, 1, 1, 1, 1, 0, 1, 1, 1, 1, 0, 1],\n",
    "                [1, 0, 1, 0, 0, 0, 0, 1, 0, 0, 0, 0, 0, 1, 0, 0, 1, 0, 1],\n",
    "                [1, 0, 1, 0, 1, 1, 1, 1, 0, 0, 0, 0, 0, 1, 0, 0, 1, 0, 1],\n",
    "                [1, 0, 0, 0, 0, 0, 0, 1, 0, 0, 0, 1, 0, 1, 0, 0, 0, 0, 1],\n",
    "                [1, 0, 0, 0, 0, 0, 0, 1, 0, 0, 0, 1, 0, 1, 1, 1, 1, 0, 1],\n",
    "                [1, 0, 0, 0, 0, 0, 0, 1, 0, 0, 0, 1, 0, 0, 0, 0, 0, 0, 1],\n",
    "                [1, 1, 1, 1, 1, 1, 1, 1, 2, 2, 1, 1, 1, 1, 1, 1, 1, 1, 1]])\n",
    "\n",
    "map_exits = np.where(map == 2)\n",
    "map_exits = list(zip(map_exits[1], map_exits[0]))\n",
    "print(map_exits)"
   ]
  },
  {
   "cell_type": "code",
   "execution_count": 73,
   "metadata": {},
   "outputs": [],
   "source": [
    "class Cell:\n",
    "    def __init__(self):\n",
    "        pass\n"
   ]
  },
  {
   "cell_type": "code",
   "execution_count": 74,
   "metadata": {},
   "outputs": [],
   "source": [
    "from heapq import heappop, heappush\n",
    "\n",
    "# A* algorithm modified to compute costs from one exit to all cells\n",
    "def a_star_from_exit(map, start):\n",
    "    # Open set is a priority queue of (cost, position) tuples\n",
    "    open_set = []\n",
    "    heappush(open_set, (0, start))\n",
    "\n",
    "    # Store the cost of getting to each point on the map\n",
    "    g_score = {start: 0}\n",
    "\n",
    "    # Store the best path to reach each point (optional, not necessary if we just need costs)\n",
    "    came_from = {}\n",
    "\n",
    "    while open_set:\n",
    "        # Get the node with the lowest cost\n",
    "        current_cost, current = heappop(open_set)\n",
    "\n",
    "        # Check all possible moves (up, down, left, right)\n",
    "        for dx, dy in [(0, 1), (0, -1), (1, 0), (-1, 0)]:\n",
    "            neighbor = (current[0] + dx, current[1] + dy)\n",
    "\n",
    "            # If the neighbor is out of bounds or a wall, skip it\n",
    "            if (0 <= neighbor[0] < len(map[0]) and\n",
    "                0 <= neighbor[1] < len(map) and\n",
    "                map[neighbor[1]][neighbor[0]] == 0):  # Ensure walkable space\n",
    "\n",
    "                # Calculate tentative g_score\n",
    "                tentative_g_score = g_score[current] + 1  # Cost to move to neighbor\n",
    "\n",
    "                # If this is the best path to neighbor, record it\n",
    "                if neighbor not in g_score or tentative_g_score < g_score[neighbor]:\n",
    "                    came_from[neighbor] = current\n",
    "                    g_score[neighbor] = tentative_g_score\n",
    "                    heappush(open_set, (tentative_g_score, neighbor))\n",
    "\n",
    "    return g_score  # Return cost map from the exit to all cells\n"
   ]
  },
  {
   "cell_type": "code",
   "execution_count": 75,
   "metadata": {},
   "outputs": [],
   "source": [
    "class Person:\n",
    "    def __init__(self, map):\n",
    "        self.map = map\n",
    "        self.x = 0\n",
    "        self.y = 0\n",
    "\n",
    "        self.init_random_position()\n",
    "\n",
    "    def init_random_position(self):\n",
    "        while True:\n",
    "            x = random.randint(0, len(self.map[0]) - 1)\n",
    "            y = random.randint(0, len(self.map) - 1)\n",
    "            if self.map[y][x] == 0:\n",
    "                self.x, self.y = x, y\n",
    "                break\n",
    "\n",
    "    def move_randomly(self):\n",
    "        # Define possible moves: up, down, left, right\n",
    "        moves = [(0, 1), (0, -1), (1, 0), (-1, 0)]\n",
    "        random.shuffle(moves)\n",
    "\n",
    "        for move in moves:\n",
    "            new_x = self.x + move[0]\n",
    "            new_y = self.y + move[1]\n",
    "            if 0 <= new_x < len(self.map[0]) and 0 <= new_y < len(self.map):\n",
    "                # Only move if the new position is not a wall (i.e., map[y][x] == 1 means walkable)\n",
    "                if self.map[new_y][new_x] == 0:\n",
    "                    self.x, self.y = new_x, new_y\n",
    "                    break\n",
    "\n",
    "    def move_towards_exit(self, exit_costs):\n",
    "        # Find the nearest exit using precomputed costs\n",
    "        start = (self.x, self.y)\n",
    "        nearest_exit = min(exit_costs.keys(), key=lambda exit: exit_costs[exit].get(start, float('inf')))\n",
    "\n",
    "        # Use the precomputed cost map to find the next step towards the nearest exit\n",
    "        current_cost = exit_costs[nearest_exit].get(start, float('inf'))\n",
    "        best_move = start  # Stay in place if no valid move\n",
    "\n",
    "        for dx, dy in [(0, 1), (0, -1), (1, 0), (-1, 0)]:\n",
    "            neighbor = (self.x + dx, self.y + dy)\n",
    "            if neighbor in exit_costs[nearest_exit] and exit_costs[nearest_exit][neighbor] < current_cost:\n",
    "                best_move = neighbor\n",
    "                current_cost = exit_costs[nearest_exit][neighbor]\n",
    "\n",
    "        # Move the person to the best move\n",
    "        self.x, self.y = best_move"
   ]
  },
  {
   "cell_type": "code",
   "execution_count": 83,
   "metadata": {},
   "outputs": [],
   "source": [
    "class BurnSimulation():\n",
    "    def __init__(self, map, num_people):\n",
    "        self.environment = np.array([[Cell() for _ in row] for row in map])\n",
    "\n",
    "        self.people = []\n",
    "        for _ in range(num_people):\n",
    "            self.people.append(Person(map))\n",
    "\n",
    "        # Precompute A* for each exit\n",
    "        self.exit_costs = {exit: a_star_from_exit(map, exit) for exit in map_exits}\n",
    "\n",
    "    def step(self):\n",
    "        # Move all people\n",
    "        for person in self.people:\n",
    "            person.move_towards_exit(self.exit_costs)\n",
    "\n",
    "    def draw(self):\n",
    "        height, width = map.shape\n",
    "\n",
    "        # Draw map\n",
    "        plt.axis([0, height, 0, width])\n",
    "        plt.xticks([])\n",
    "        plt.yticks([])\n",
    "\n",
    "        wallsMap = np.where(map == 1, 1, 0)\n",
    "        options={\n",
    "            \"cmap\": 'Greens',\n",
    "            \"alpha\": 0.7,\n",
    "            \"vmin\": 0, \"vmax\": 1,\n",
    "            \"interpolation\": 'none',\n",
    "            \"origin\": 'upper',\n",
    "            \"extent\": [0, height, 0, width]\n",
    "        }\n",
    "\n",
    "        plt.imshow(wallsMap, **options)\n",
    "\n",
    "        # Draw people as green dots\n",
    "        for person in self.people:\n",
    "            plt.plot(person.x + 0.5, height - person.y - 0.5, '.', color='green')\n",
    "\n",
    "        plt.show()\n",
    "\n",
    "    def animate(self, frames, interval=None, step=None):\n",
    "        \"\"\"Animate the automaton.\n",
    "\n",
    "        frames: number of frames to draw\n",
    "        interval: time between frames in seconds\n",
    "        iters: number of steps between frames\n",
    "        \"\"\"\n",
    "        if step is None:\n",
    "            step = self.step\n",
    "\n",
    "        plt.figure()\n",
    "        try:\n",
    "            for _ in range(frames-1):\n",
    "                self.draw()\n",
    "                plt.show()\n",
    "                if interval:\n",
    "                    sleep(interval)\n",
    "                step()\n",
    "                clear_output(wait=True)\n",
    "            self.draw()\n",
    "            plt.show()\n",
    "        except KeyboardInterrupt:\n",
    "            pass"
   ]
  },
  {
   "cell_type": "code",
   "execution_count": 88,
   "metadata": {},
   "outputs": [
    {
     "data": {
      "image/png": "[encoded data removed]",
      "text/plain": [
       "<Figure size 640x480 with 1 Axes>"
      ]
     },
     "metadata": {},
     "output_type": "display_data"
    }
   ],
   "source": [
    "sim = BurnSimulation(map, NUM_AGENTS)\n",
    "\n",
    "sim.animate(30, 0.1)"
   ]
  }
 ],
 "metadata": {
  "kernelspec": {
   "display_name": "CITS4402env",
   "language": "python",
   "name": "python3"
  },
  "language_info": {
   "codemirror_mode": {
    "name": "ipython",
    "version": 3
   },
   "file_extension": ".py",
   "mimetype": "text/x-python",
   "name": "python",
   "nbconvert_exporter": "python",
   "pygments_lexer": "ipython3",
   "version": "3.12.2"
  }
 },
 "nbformat": 4,
 "nbformat_minor": 2
}
